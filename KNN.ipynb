{
  "nbformat": 4,
  "nbformat_minor": 0,
  "metadata": {
    "colab": {
      "name": "KNN.ipynb",
      "provenance": [],
      "collapsed_sections": []
    },
    "kernelspec": {
      "name": "python3",
      "display_name": "Python 3"
    }
  },
  "cells": [
    {
      "cell_type": "code",
      "metadata": {
        "id": "5F1ckbOo8fHP",
        "colab": {
          "base_uri": "https://localhost:8080/",
          "height": 119
        },
        "outputId": "ae7d6bee-0b83-44de-e156-4fe5e7525ab5"
      },
      "source": [
        "import pandas as pd \n",
        "import numpy as np \n",
        "df = pd.read_csv('iris.csv')\n",
        "df = df.apply(np.random.permutation, axis = 0)\n",
        "data = df.to_numpy()\n",
        "\n",
        "x = data[:, :4]\n",
        "y = data[:, 4]\n",
        "xtrain = x[:120,:]\n",
        "ytrain = y[:120]\n",
        "xtest = x[120:,:]\n",
        "ytest = y[120:]\n",
        "print(x.shape)\n",
        "print(y.shape)\n",
        "print(xtrain.shape)\n",
        "print(ytrain.shape)\n",
        "print(xtest.shape)\n",
        "print(ytest.shape)"
      ],
      "execution_count": null,
      "outputs": [
        {
          "output_type": "stream",
          "text": [
            "(150, 4)\n",
            "(150,)\n",
            "(120, 4)\n",
            "(120,)\n",
            "(30, 4)\n",
            "(30,)\n"
          ],
          "name": "stdout"
        }
      ]
    },
    {
      "cell_type": "code",
      "metadata": {
        "id": "YryAiuAS9ajR"
      },
      "source": [
        "class KNN:\n",
        "  def __init__(self, k = 1):\n",
        "    print('Constructor Called..')\n",
        "    self.k = k \n",
        "  def train(self,x,y):\n",
        "    print('Training..')\n",
        "    self.x = x\n",
        "    self.y = y\n",
        "  def predict(self,x):\n",
        "    print('Predicting..')\n",
        "    diff = []\n",
        "    label = []\n",
        "    votes = np.zeroes(len(np.unique(y)))\n",
        "    for i in range(x.shape[0]):\n",
        "      indexes = np.argpartition(euc,self.k)\n",
        "      diff = self.x - x[i]\n",
        "      diff = diff**2\n",
        "      euc = np.sum(diff, axis = 1)\n",
        "      euc = euc**0.5\n",
        "      predicted_index = np.argmin(euc)\n",
        "      predicted = self.y[predicted_index]\n",
        "      label.append(predicted)\n",
        "    print(diff.shape)\n",
        "    print(euc.shape)\n",
        "    return label\n",
        "  def evaluate(self):\n",
        "    print('Evaluating..')"
      ],
      "execution_count": null,
      "outputs": []
    },
    {
      "cell_type": "code",
      "metadata": {
        "id": "azHfgeGt_xAo",
        "colab": {
          "base_uri": "https://localhost:8080/",
          "height": 612
        },
        "outputId": "1b958097-a416-4bd5-b67d-84d44abb6717"
      },
      "source": [
        "clf = KNN(3)\n",
        "clf.train(xtrain,ytrain)\n",
        "clf.predict(xtest)"
      ],
      "execution_count": null,
      "outputs": [
        {
          "output_type": "stream",
          "text": [
            "Constructor Called..\n",
            "Training..\n",
            "Predicting..\n",
            "(120, 4)\n",
            "(120,)\n"
          ],
          "name": "stdout"
        },
        {
          "output_type": "execute_result",
          "data": {
            "text/plain": [
              "['versicolor',\n",
              " 'versicolor',\n",
              " 'setosa',\n",
              " 'virginica',\n",
              " 'virginica',\n",
              " 'virginica',\n",
              " 'setosa',\n",
              " 'versicolor',\n",
              " 'versicolor',\n",
              " 'virginica',\n",
              " 'setosa',\n",
              " 'virginica',\n",
              " 'setosa',\n",
              " 'setosa',\n",
              " 'setosa',\n",
              " 'versicolor',\n",
              " 'setosa',\n",
              " 'setosa',\n",
              " 'virginica',\n",
              " 'setosa',\n",
              " 'virginica',\n",
              " 'setosa',\n",
              " 'virginica',\n",
              " 'versicolor',\n",
              " 'versicolor',\n",
              " 'versicolor',\n",
              " 'versicolor',\n",
              " 'setosa',\n",
              " 'setosa',\n",
              " 'setosa']"
            ]
          },
          "metadata": {
            "tags": []
          },
          "execution_count": 55
        }
      ]
    }
  ]
}